{
  "cells": [
    {
      "cell_type": "markdown",
      "metadata": {
        "id": "dF8TXDF3gGul"
      },
      "source": [
        "# Under-sampling and Over-sampling\n"
      ]
    },
    {
      "cell_type": "code",
      "execution_count": null,
      "metadata": {
        "id": "QENuy5vQgGum"
      },
      "outputs": [],
      "source": [
        "import pandas as pd\n",
        "import matplotlib.pyplot as plt\n",
        "import seaborn as sns\n",
        "\n",
        "from sklearn.ensemble import RandomForestClassifier\n",
        "from sklearn.metrics import roc_auc_score\n",
        "from sklearn.metrics import precision_recall_curve\n",
        "from sklearn.model_selection import train_test_split\n",
        "\n",
        "from imblearn.under_sampling import (\n",
        "    RandomUnderSampler,  #randomly removing until dataset is balanced (could remove important information)\n",
        "    CondensedNearestNeighbour, #remove noisy observations (too close to majority class). Quick, but repeats multiple time. #1-nn\n",
        "    TomekLinks, #find closest minority and majority, remove majority class samples only/remove both majority and minority\n",
        "    OneSidedSelection, #basically CNN and tomekLinks combined.\n",
        "    EditedNearestNeighbours,  #clean noise, 3-NN. (removes complicated scenario, being too close to minority as a majority.)\n",
        "    RepeatedEditedNearestNeighbours, #same as above, but restarts iteration process if something gets removed\n",
        "    AllKNN #removes using 1-nn, then 3-nn, then more if needed\n",
        ")\n",
        "\n",
        "from imblearn.over_sampling import (\n",
        "    RandomOverSampler, #extract oberservations at random from minority class until a certain balancing ratio is reached (usually 1) leads to overfit\n",
        "    SMOTE #creates new observations near the area of 5-NN.\n",
        ")"
      ]
    },
    {
      "cell_type": "markdown",
      "metadata": {
        "id": "vkJQO_TggGuw"
      },
      "source": [
        "## Load data"
      ]
    },
    {
      "cell_type": "code",
      "execution_count": null,
      "metadata": {
        "id": "ghb7BzR6gGuw"
      },
      "outputs": [],
      "source": [
        "# load data from Google MyDrive\n",
        "from google.colab import drive\n",
        "drive.mount('/content/drive')\n",
        "\n",
        "data = pd.read_csv('/content/drive/MyDrive/protein_homology_prediction.csv')\n",
        "\n",
        "data.head()"
      ]
    },
    {
      "cell_type": "code",
      "execution_count": null,
      "metadata": {
        "id": "TbwNkinigGuw"
      },
      "outputs": [],
      "source": [
        "# size of data\n",
        "data.shape\n",
        "data.columns"
      ]
    },
    {
      "cell_type": "markdown",
      "metadata": {
        "id": "-DiTqG6kgGux"
      },
      "source": [
        "## Imbalanced target"
      ]
    },
    {
      "cell_type": "code",
      "execution_count": null,
      "metadata": {
        "id": "THpHFtdvgGux"
      },
      "outputs": [],
      "source": [
        "# imbalanced target\n",
        "data.target.value_counts() / len(data)   # \"target\" is the name of the column containing the targets"
      ]
    },
    {
      "cell_type": "markdown",
      "metadata": {
        "id": "n275b85ygGux"
      },
      "source": [
        "## Separate train and test"
      ]
    },
    {
      "cell_type": "code",
      "execution_count": null,
      "metadata": {
        "id": "_mPK7uIIgGux"
      },
      "outputs": [],
      "source": [
        "# separate dataset into train and test\n",
        "\n",
        "X_train, X_test, y_train, y_test = train_test_split(\n",
        "    data.drop(labels=['target'], axis=1),  # drop the target\n",
        "    data['target'],  # just the target\n",
        "    test_size=0.3,\n",
        "    random_state=0)\n",
        "\n",
        "X_train.shape, X_test.shape"
      ]
    },
    {
      "cell_type": "markdown",
      "metadata": {
        "id": "1PL3C5jmgGux"
      },
      "source": [
        "## Random Undersampling\n"
      ]
    },
    {
      "cell_type": "code",
      "execution_count": null,
      "metadata": {
        "id": "WOFi_zrbgGuy"
      },
      "outputs": [],
      "source": [
        "rus = RandomUnderSampler(\n",
        "    sampling_strategy='auto',  # samples only from majority class\n",
        "    random_state=0,  # for reproducibility\n",
        "    replacement=True # if it should resample with replacement\n",
        ")  \n",
        "\n",
        "X_resampled, y_resampled = rus.fit_resample(X_train, y_train)"
      ]
    },
    {
      "cell_type": "markdown",
      "source": [
        "## Condensed Nearest Neighbour"
      ],
      "metadata": {
        "id": "5aAFw8JAjwEk"
      }
    },
    {
      "cell_type": "code",
      "source": [
        "# this is going to take around 20-25 seconds\n",
        "\n",
        "cnn = CondensedNearestNeighbour(\n",
        "    sampling_strategy='auto',  # undersamples only the majority class\n",
        "    random_state=0,  # for reproducibility\n",
        "    n_neighbors=1,# default\n",
        "    n_jobs=4)  # number of cores used to compute\n",
        "\n",
        "X_resampled, y_resampled = cnn.fit_resample(X_train, y_train)"
      ],
      "metadata": {
        "id": "8GSCO3wQjtMn"
      },
      "execution_count": null,
      "outputs": []
    },
    {
      "cell_type": "markdown",
      "source": [
        "## TomekLinks"
      ],
      "metadata": {
        "id": "WG3V6a03k7Gc"
      }
    },
    {
      "cell_type": "code",
      "source": [
        "tl = TomekLinks(\n",
        "    sampling_strategy='auto',  # undersamples only the majority class\n",
        "    n_jobs=4)  # number of cores used to compute\n",
        "\n",
        "X_resampled, y_resampled = tl.fit_resample(X_train, y_train)"
      ],
      "metadata": {
        "id": "JXJ2J769k3V3"
      },
      "execution_count": null,
      "outputs": []
    },
    {
      "cell_type": "markdown",
      "source": [
        "## Edited Nearest Neighbours"
      ],
      "metadata": {
        "id": "FiY2aAkcRhPf"
      }
    },
    {
      "cell_type": "code",
      "source": [
        "enn = EditedNearestNeighbours(\n",
        "    sampling_strategy='auto',  # undersamples only the majority class\n",
        "    n_neighbors=3, # the number of neighbours to examine\n",
        "    kind_sel='all',  # all neighbours need to have the same label as the observation examined\n",
        "    n_jobs=4)  # number of cores used to compute\n",
        "\n",
        "X_resampled, y_resampled = enn.fit_resample(X_train, y_train)"
      ],
      "metadata": {
        "id": "-zVcwv09RiX6"
      },
      "execution_count": null,
      "outputs": []
    },
    {
      "cell_type": "markdown",
      "source": [
        "## Repeated Edited Nearest Neighbours\n",
        "\n",
        "\n",
        "\n"
      ],
      "metadata": {
        "id": "tcn0JmyaRSgy"
      }
    },
    {
      "cell_type": "code",
      "source": [
        "renn = RepeatedEditedNearestNeighbours(\n",
        "    sampling_strategy='auto',# removes only the majority class\n",
        "    n_neighbors=3, # the number of neighbours to examine\n",
        "    kind_sel='all', # all neighbouring observations should show the same class\n",
        "    n_jobs=4, # number of cores used to compute\n",
        "    max_iter=100) # maximum number of iterations\n",
        "\n",
        "X_resampled, y_resampled = renn.fit_resample(X_train, y_train)"
      ],
      "metadata": {
        "id": "Nuw3FKLzRTHR"
      },
      "execution_count": null,
      "outputs": []
    },
    {
      "cell_type": "markdown",
      "source": [
        "## One-sided Selection"
      ],
      "metadata": {
        "id": "t-GrAH4glLce"
      }
    },
    {
      "cell_type": "code",
      "source": [
        "oss = OneSidedSelection(\n",
        "    sampling_strategy='auto',  # undersamples only the majority class\n",
        "    random_state=0,  # for reproducibility\n",
        "    n_neighbors=1,# default, algo to find the hardest instances.\n",
        "    n_jobs=4)  # number of cores used to compute\n",
        "\n",
        "X_resampled, y_resampled = oss.fit_resample(X_train, y_train)"
      ],
      "metadata": {
        "id": "6s2pFY7LlJcE"
      },
      "execution_count": null,
      "outputs": []
    },
    {
      "cell_type": "markdown",
      "source": [
        "## All K-NN"
      ],
      "metadata": {
        "id": "EKcP-k_oP09_"
      }
    },
    {
      "cell_type": "code",
      "source": [
        "allknn = AllKNN(\n",
        "    sampling_strategy='auto',  # undersamples only the majority class\n",
        "    n_neighbors=5, # the maximum size of the neighbourhood to examine\n",
        "    kind_sel='all',  # all neighbours need to have the same label as the observation examined\n",
        "    n_jobs=4)  # number of cores used to compute\n",
        "\n",
        "X_resampled, y_resampled = allknn.fit_resample(X_train, y_train)"
      ],
      "metadata": {
        "id": "Ca-wKIccPzXX"
      },
      "execution_count": null,
      "outputs": []
    },
    {
      "cell_type": "markdown",
      "source": [
        "## Random Over-sampling"
      ],
      "metadata": {
        "id": "TSSO4k_6RuTg"
      }
    },
    {
      "cell_type": "code",
      "source": [
        "ros = RandomOverSampler(\n",
        "    sampling_strategy='auto', # samples only the minority class\n",
        "    random_state=0,  # for reproducibility\n",
        ")  \n",
        "\n",
        "X_resampled, y_resampled = ros.fit_resample(X_train, y_train)"
      ],
      "metadata": {
        "id": "U0_SPTPTRxOV"
      },
      "execution_count": null,
      "outputs": []
    },
    {
      "cell_type": "markdown",
      "source": [
        "## Random Over-sampling with smoothing"
      ],
      "metadata": {
        "id": "3lHm6mGFShdI"
      }
    },
    {
      "cell_type": "code",
      "source": [
        "shrink = 2\n",
        "\n",
        "ros = RandomOverSampler(\n",
        "  sampling_strategy='auto', # samples only the minority class\n",
        "  random_state=0,  # for reproducibility\n",
        "  shrinkage = shrink,\n",
        ")  \n",
        "\n",
        "X_resampled, y_resampled = ros.fit_resample(X_train, y_train)"
      ],
      "metadata": {
        "id": "5YlyYn2pShqA"
      },
      "execution_count": null,
      "outputs": []
    },
    {
      "cell_type": "markdown",
      "source": [
        "## SMOTE"
      ],
      "metadata": {
        "id": "mqBHYCcQTW8Q"
      }
    },
    {
      "cell_type": "code",
      "source": [
        "sm = SMOTE(\n",
        "    sampling_strategy='auto',  # samples only the minority class\n",
        "    random_state=0,  # for reproducibility\n",
        "    k_neighbors=5,\n",
        ")\n",
        "\n",
        "X_resampled, y_resampled  = sm.fit_resample(X_train, y_train)"
      ],
      "metadata": {
        "id": "Sow7_jJ6TYdD"
      },
      "execution_count": null,
      "outputs": []
    },
    {
      "cell_type": "markdown",
      "source": [
        "## New size of the resampled dataset\n"
      ],
      "metadata": {
        "id": "QUdsr809QXyD"
      }
    },
    {
      "cell_type": "code",
      "execution_count": null,
      "metadata": {
        "id": "3ukKFmbpgGuy"
      },
      "outputs": [],
      "source": [
        "# size of undersampled data\n",
        "\n",
        "X_resampled.shape, y_resampled.shape"
      ]
    },
    {
      "cell_type": "code",
      "execution_count": null,
      "metadata": {
        "id": "uPP0kw7YgGuy"
      },
      "outputs": [],
      "source": [
        "# number of positive class in original dataset\n",
        "y_train.value_counts()"
      ]
    },
    {
      "cell_type": "code",
      "source": [
        "# number of positive class in resampled dataset\n",
        "y_resampled.value_counts()"
      ],
      "metadata": {
        "id": "tfsa4AMTS9HI"
      },
      "execution_count": null,
      "outputs": []
    },
    {
      "cell_type": "markdown",
      "metadata": {
        "id": "XUIUDguWgGuz"
      },
      "source": [
        "## Plot data\n",
        "\n",
        "Let's compare how the data looks before and after the undersampling."
      ]
    },
    {
      "cell_type": "code",
      "execution_count": null,
      "metadata": {
        "id": "c0AvfimVgGuz"
      },
      "outputs": [],
      "source": [
        "sns.scatterplot(data=data.sample(1784, random_state=0),\n",
        "                x=\"0\",\n",
        "                y=\"1\",\n",
        "                hue=\"target\")\n"
      ]
    },
    {
      "cell_type": "code",
      "execution_count": null,
      "metadata": {
        "id": "O7gEkcDwgGuz"
      },
      "outputs": [],
      "source": [
        "col_names = [str(i) for i in range(74)] +['target']\n",
        "\n",
        "data_resampled = pd.concat([X_resampled, y_resampled], axis=1)\n",
        "data_resampled.columns = col_names\n",
        "\n",
        "sns.scatterplot(data=data_resampled, x=\"0\", y=\"1\", hue=\"target\")"
      ]
    },
    {
      "cell_type": "code",
      "execution_count": null,
      "metadata": {
        "id": "RjPGsdXggGu0"
      },
      "outputs": [],
      "source": [
        "sns.scatterplot(data=data.sample(1784, random_state=0),\n",
        "                x=\"4\",\n",
        "                y=\"5\",\n",
        "                hue=\"target\")"
      ]
    },
    {
      "cell_type": "code",
      "execution_count": null,
      "metadata": {
        "id": "etk4i_DngGu0"
      },
      "outputs": [],
      "source": [
        "sns.scatterplot(data=data_resampled, x=\"4\", y=\"5\", hue=\"target\")"
      ]
    },
    {
      "cell_type": "markdown",
      "metadata": {
        "id": "2fLPyB49gGu0"
      },
      "source": [
        "## Machine learning performance comparison\n",
        "\n",
        "Let's compare model performance with and without undersampling."
      ]
    },
    {
      "cell_type": "code",
      "execution_count": null,
      "metadata": {
        "id": "J0wEUaUNgGu0"
      },
      "outputs": [],
      "source": [
        "# function to train random forests and evaluate the performance\n",
        "\n",
        "def run_randomForests(X_train, X_test, y_train, y_test):\n",
        "    \n",
        "    rf = RandomForestClassifier(n_estimators=200, random_state=39, max_depth=4)\n",
        "    rf.fit(X_train, y_train)\n",
        "\n",
        "    print('Train set')\n",
        "    pred = rf.predict_proba(X_train)\n",
        "    print('Random Forests roc-auc: {}'.format(roc_auc_score(y_train, pred[:,1])))\n",
        "    \n",
        "    print('Test set')\n",
        "    pred = rf.predict_proba(X_test)\n",
        "    print('Random Forests roc-auc: {}'.format(roc_auc_score(y_test, pred[:,1])))"
      ]
    },
    {
      "cell_type": "code",
      "execution_count": null,
      "metadata": {
        "id": "TbzJNk1qgGu1"
      },
      "outputs": [],
      "source": [
        "# evaluate performance of algorithm built\n",
        "# using imbalanced dataset\n",
        "\n",
        "run_randomForests(X_train,\n",
        "                  X_test,\n",
        "                  y_train,\n",
        "                  y_test)"
      ]
    },
    {
      "cell_type": "code",
      "execution_count": null,
      "metadata": {
        "id": "8VbLpKX5gGu1"
      },
      "outputs": [],
      "source": [
        "# evaluate performance of algorithm built\n",
        "# using undersampled dataset\n",
        "\n",
        "run_randomForests(X_resampled,\n",
        "                  X_test,\n",
        "                  y_resampled,\n",
        "                  y_test)"
      ]
    }
  ],
  "metadata": {
    "kernelspec": {
      "display_name": "imbalanced",
      "language": "python",
      "name": "imbalanced"
    },
    "language_info": {
      "codemirror_mode": {
        "name": "ipython",
        "version": 3
      },
      "file_extension": ".py",
      "mimetype": "text/x-python",
      "name": "python",
      "nbconvert_exporter": "python",
      "pygments_lexer": "ipython3",
      "version": "3.8.2"
    },
    "toc": {
      "base_numbering": 1,
      "nav_menu": {},
      "number_sections": true,
      "sideBar": true,
      "skip_h1_title": false,
      "title_cell": "Table of Contents",
      "title_sidebar": "Contents",
      "toc_cell": false,
      "toc_position": {},
      "toc_section_display": true,
      "toc_window_display": true
    },
    "colab": {
      "provenance": []
    }
  },
  "nbformat": 4,
  "nbformat_minor": 0
}